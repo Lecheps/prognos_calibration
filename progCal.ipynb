{
 "cells": [
  {
   "cell_type": "code",
   "execution_count": null,
   "metadata": {},
   "outputs": [],
   "source": [
    "from subprocess import Popen, PIPE, CalledProcessError\n",
    "import re\n",
    "\n",
    "def callPopen(cmd):\n",
    "    print(cmd)\n",
    "    with Popen(cmd.split(),\n",
    "               stdout=PIPE,\n",
    "               stderr=PIPE,\n",
    "               bufsize=1,\n",
    "               universal_newlines=True) as p:\n",
    "        for line in p.stdout:\n",
    "            print(line, end='')\n",
    "        for line in p.stderr:\n",
    "            print(line, end='')\n",
    "        if p.returncode != (0 or None):\n",
    "            raise CalledProcessError(p.returncode, p.args)\n",
    "\n",
    "def isInstance(name):\n",
    "    instanceExists=False\n",
    "    ip=''\n",
    "    with Popen('gcloud compute instances list'.split(),\n",
    "               stdout=PIPE,\n",
    "               stderr=PIPE,\n",
    "               bufsize=1,\n",
    "               universal_newlines=True) as p:\n",
    "        for line in p.stdout:\n",
    "            if re.match('^{}'.format(name), line):\n",
    "                instanceExists=True\n",
    "                ip = line.strip().split()\n",
    "                ip = ip[4]\n",
    "        for line in p.stderr:\n",
    "            print(line, end='')\n",
    "        if p.returncode != (0 or None):\n",
    "            raise CalledProcessError(p.returncode, p.args)\n",
    "        return(instanceExists,ip)\n",
    "    \n",
    "            \n",
    "def text_prepender(filename, text):\n",
    "    with open(filename, 'r+') as f:\n",
    "        content = f.read()\n",
    "        f.seek(0, 0)\n",
    "        f.write(text.rstrip('\\r\\n') + content)\n",
    "    "
   ]
  },
  {
   "cell_type": "markdown",
   "metadata": {},
   "source": [
    "# Automated calibration for the GOTM/FABM model at Langtjern\n",
    "\n",
    "## Pre-requisites\n",
    "\n",
    "* gcloud command line utility\n",
    "* google cloud account, you might need to be an admin for some of this to work, also this is not free\n",
    "* ssh key setup in gitlab.au.dk\n",
    "* fabric3 needs to be (pip) installed\n",
    "* python modules listed in the first cell of this notebook"
   ]
  },
  {
   "cell_type": "markdown",
   "metadata": {},
   "source": [
    "## Creating an instance on Google Cloud"
   ]
  },
  {
   "cell_type": "code",
   "execution_count": null,
   "metadata": {},
   "outputs": [],
   "source": [
    "instanceName = 'gotm-cal'\n",
    "username = 'jose-luis'\n",
    "\n",
    "createInstance = '''\\\n",
    "gcloud compute instances create {} \\\n",
    "--zone europe-west3-a \\\n",
    "--image-family debian-9 \\\n",
    "--image-project debian-cloud \\\n",
    "--boot-disk-size 200GB \\\n",
    "--machine-type n1-standard-2 \\\n",
    "'''\n",
    "\n",
    "deleteInstance = '''\\\n",
    "gcloud compute instances delete {} \\\n",
    "--zone europe-west-3a \\\n",
    "'''\n",
    "\n",
    "listInstances = '''gcloud compute instances list'''\n",
    "\n",
    "addSSHKeys = '''gcloud compute instances add-metadata {} --zone europe-west3-a --metadata-from-file ssh-keys={}'''\n",
    "\n",
    "keyDir = ('/home/jose-luis/.ssh/gotmKeys')\n",
    "\n",
    "ip=''\n",
    "instanceExists,ip = isInstance(instanceName)\n",
    "\n",
    "print('Instance {} is {}'.format(instanceName,ip) )\n",
    "\n",
    "isStarted = False\n",
    "if instanceExists and ip == 'TERMINATED' :\n",
    "    callPopen('gcloud compute instances start {} --zone europe-west3-a'.format(instanceName))\n",
    "    instanceExists,ip = isInstance(instanceName)\n",
    "    isStarted = True\n",
    "    print(\"Machine started and ip is {}\".format(ip))\n",
    "\n",
    "wasCreated=False\n",
    "if not instanceExists and not isStarted:\n",
    "    callPopen(createInstance.format(instanceName))\n",
    "    wasCreated=True\n",
    "    callPopen('rm -rf {}'.format(keyDir))\n",
    "    callPopen('mkdir -p {}'.format(keyDir))\n",
    "    p = Popen(\"echo 'yes' | ssh-keygen -t rsa -f {0}/{1} -C {1} -N '' \".format(keyDir,username),\n",
    "              stdout=PIPE,\n",
    "              shell=True,\n",
    "              stderr=PIPE\n",
    "             )\n",
    "    print(p.communicate())\n",
    "    text_prepender('{}/{}.pub'.format(keyDir,username), '{}:'.format(username) )\n",
    "    callPopen(addSSHKeys.format(instanceName,keyDir + '/{}.pub'.format(username)))\n",
    "    callPopen('sed -i s/^{0}:// {1}/{0}.pub'.format(username,keyDir))\n",
    "    ip=isInstance(instanceName)[1]\n",
    "        #callPopen('chmod 400 {}'.format(keyDir))\n",
    "        \n",
    "print(\"The ip of {} is {}\".format(instanceName,ip))"
   ]
  },
  {
   "cell_type": "markdown",
   "metadata": {},
   "source": [
    "## Updating fabfile.py with credentials and ip"
   ]
  },
  {
   "cell_type": "code",
   "execution_count": null,
   "metadata": {},
   "outputs": [],
   "source": [
    "callPopen(\"sed -i s/^env\\.hosts.*/env.hosts=\\['{}']/ fabfile.py\".format(ip))\n",
    "callPopen(\"sed -i s/^env\\.user.*/env.user=\\'{}\\'/ fabfile.py\".format(username))\n",
    "callPopen(\"sed -i s$^env\\.key_filename.*$env\\.key_filename='{}'$ fabfile.py\".format(keyDir + '/' + username))\n",
    "callPopen(\"sed -i s/^env\\.roledefs.*/env.roledefs={{\\\\'{}\\\\':[\\\\'{}\\\\'],/ fabfile.py\".format('stage',ip))\n",
    "\n",
    "#Testing connection\n",
    "#Adding key to remote machine\n",
    "p = Popen(\"ssh -i {0}/{1} {1}@{2} -o UserKnownHostsFile=/dev/null -o StrictHostKeyChecking=no\".format(keyDir,username,ip),shell=True,stdout=PIPE,stdin=PIPE)\n",
    "print(p.communicate())"
   ]
  },
  {
   "cell_type": "markdown",
   "metadata": {},
   "source": [
    "## Setting up GOTM and FABM in the remote machine"
   ]
  },
  {
   "cell_type": "code",
   "execution_count": null,
   "metadata": {},
   "outputs": [],
   "source": [
    "callPopen('fab testConnection')\n",
    "callPopen('fab getUtilities')\n",
    "callPopen('fab downloadModels') #note that the location of the key file is hardcoded in the getFABM function\n",
    "callPopen('fab compileModels')\n",
    "callPopen('fab getPROGNOS')\n",
    "callPopen('fab testRun:/home/{}/PROGNOS/langtjern/langtjern.xml'.format(username))"
   ]
  },
  {
   "cell_type": "code",
   "execution_count": null,
   "metadata": {},
   "outputs": [],
   "source": []
  }
 ],
 "metadata": {
  "kernelspec": {
   "display_name": "Python 3",
   "language": "python",
   "name": "python3"
  },
  "language_info": {
   "codemirror_mode": {
    "name": "ipython",
    "version": 3
   },
   "file_extension": ".py",
   "mimetype": "text/x-python",
   "name": "python",
   "nbconvert_exporter": "python",
   "pygments_lexer": "ipython3",
   "version": "3.6.3"
  }
 },
 "nbformat": 4,
 "nbformat_minor": 2
}
